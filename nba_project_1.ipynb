{
 "cells": [
  {
   "cell_type": "markdown",
   "metadata": {},
   "source": [
    "# The Evolution of the NBA and the Rise of the 3pt Shooting Era\n",
    "In this project I will be exploring how the game of basketball played in the NBA has changed over the last 20 seasons. \n",
    "\n",
    "## heading 2.1\n",
    "### heading 2.2"
   ]
  },
  {
   "cell_type": "code",
   "execution_count": 1,
   "metadata": {},
   "outputs": [],
   "source": [
    "import pandas as pd\n",
    "from pandas import DataFrame, Series\n",
    "import numpy as np\n",
    "from sklearn.ensemble import RandomForestClassifier, RandomForestRegressor\n",
    "from sklearn.linear_model import LogisticRegression\n",
    "from sklearn.model_selection import train_test_split, cross_val_score\n",
    "from os import path"
   ]
  },
  {
   "cell_type": "markdown",
   "metadata": {},
   "source": [
    "Setting up our directory for where we will be getting our data and loading our nba sample game data from the 2019-20 season"
   ]
  },
  {
   "cell_type": "code",
   "execution_count": 2,
   "metadata": {},
   "outputs": [
    {
     "data": {
      "text/plain": [
       "Index(['game_id', 'home', 'away', 'date', 'home_pts', 'away_pts', 'min',\n",
       "       'home_fgm', 'home_fga', 'home_fg_pct', 'home_fg3m', 'home_fg3a',\n",
       "       'home_fg3_pct', 'home_ftm', 'home_fta', 'home_ft_pct', 'home_oreb',\n",
       "       'home_dreb', 'home_reb', 'home_ast', 'home_stl', 'home_blk', 'home_tov',\n",
       "       'home_pf', 'home_plus_minus', 'away_fgm', 'away_fga', 'away_fg_pct',\n",
       "       'away_fg3m', 'away_fg3a', 'away_fg3_pct', 'away_ftm', 'away_fta',\n",
       "       'away_ft_pct', 'away_oreb', 'away_dreb', 'away_reb', 'away_ast',\n",
       "       'away_stl', 'away_blk', 'away_tov', 'away_pf', 'away_plus_minus',\n",
       "       'bubble', 'sample', 'season'],\n",
       "      dtype='object')"
      ]
     },
     "execution_count": 2,
     "metadata": {},
     "output_type": "execute_result"
    }
   ],
   "source": [
    "DATA_DIR = 'C:/Users/Jordan Chen/code_basketball/basketball_files/data'\n",
    "\n",
    "dfg = pd.read_csv(path.join(DATA_DIR, 'games.csv'))\n",
    "dfg.columns"
   ]
  },
  {
   "cell_type": "code",
   "execution_count": 3,
   "metadata": {},
   "outputs": [],
   "source": [
    "cols = ['home', 'away', 'home_pts', 'away_pts', 'home_fgm', 'home_fga',\n",
    "        'home_fg_pct', 'home_fg3m', 'home_fg3a', 'home_fg3_pct', 'home_ftm',\n",
    "        'home_fta', 'home_ft_pct', 'home_oreb', 'home_dreb', 'home_reb',\n",
    "        'home_ast', 'home_stl', 'home_blk', 'home_tov', 'home_pf',\n",
    "        'home_plus_minus', 'away_fgm', 'away_fga', 'away_fg_pct', 'away_fg3m',\n",
    "        'away_fg3a', 'away_fg3_pct', 'away_ftm', 'away_fta', 'away_ft_pct',\n",
    "        'away_oreb', 'away_dreb', 'away_reb', 'away_ast', 'away_stl',\n",
    "        'away_blk', 'away_tov', 'away_pf', 'away_plus_minus']\n"
   ]
  },
  {
   "cell_type": "code",
   "execution_count": 4,
   "metadata": {},
   "outputs": [
    {
     "data": {
      "text/html": [
       "<div>\n",
       "<style scoped>\n",
       "    .dataframe tbody tr th:only-of-type {\n",
       "        vertical-align: middle;\n",
       "    }\n",
       "\n",
       "    .dataframe tbody tr th {\n",
       "        vertical-align: top;\n",
       "    }\n",
       "\n",
       "    .dataframe thead th {\n",
       "        text-align: right;\n",
       "    }\n",
       "</style>\n",
       "<table border=\"1\" class=\"dataframe\">\n",
       "  <thead>\n",
       "    <tr style=\"text-align: right;\">\n",
       "      <th></th>\n",
       "      <th>team</th>\n",
       "      <th>opp</th>\n",
       "      <th>team_pts</th>\n",
       "      <th>opp_pts</th>\n",
       "      <th>team_fgm</th>\n",
       "      <th>team_fga</th>\n",
       "      <th>team_fg_pct</th>\n",
       "      <th>team_fg3m</th>\n",
       "      <th>team_fg3a</th>\n",
       "      <th>team_fg3_pct</th>\n",
       "      <th>...</th>\n",
       "      <th>opp_oreb</th>\n",
       "      <th>opp_dreb</th>\n",
       "      <th>opp_reb</th>\n",
       "      <th>opp_ast</th>\n",
       "      <th>opp_stl</th>\n",
       "      <th>opp_blk</th>\n",
       "      <th>opp_tov</th>\n",
       "      <th>opp_pf</th>\n",
       "      <th>opp_plus_minus</th>\n",
       "      <th>win</th>\n",
       "    </tr>\n",
       "  </thead>\n",
       "  <tbody>\n",
       "    <tr>\n",
       "      <th>0</th>\n",
       "      <td>TOR</td>\n",
       "      <td>NOP</td>\n",
       "      <td>130</td>\n",
       "      <td>122</td>\n",
       "      <td>42</td>\n",
       "      <td>103</td>\n",
       "      <td>0.408</td>\n",
       "      <td>14</td>\n",
       "      <td>40</td>\n",
       "      <td>0.350</td>\n",
       "      <td>...</td>\n",
       "      <td>16</td>\n",
       "      <td>37</td>\n",
       "      <td>53</td>\n",
       "      <td>30</td>\n",
       "      <td>4</td>\n",
       "      <td>9</td>\n",
       "      <td>19</td>\n",
       "      <td>34</td>\n",
       "      <td>-8</td>\n",
       "      <td>True</td>\n",
       "    </tr>\n",
       "    <tr>\n",
       "      <th>1</th>\n",
       "      <td>LAC</td>\n",
       "      <td>LAL</td>\n",
       "      <td>112</td>\n",
       "      <td>102</td>\n",
       "      <td>42</td>\n",
       "      <td>81</td>\n",
       "      <td>0.519</td>\n",
       "      <td>11</td>\n",
       "      <td>31</td>\n",
       "      <td>0.355</td>\n",
       "      <td>...</td>\n",
       "      <td>9</td>\n",
       "      <td>32</td>\n",
       "      <td>41</td>\n",
       "      <td>20</td>\n",
       "      <td>4</td>\n",
       "      <td>7</td>\n",
       "      <td>14</td>\n",
       "      <td>24</td>\n",
       "      <td>-10</td>\n",
       "      <td>True</td>\n",
       "    </tr>\n",
       "    <tr>\n",
       "      <th>2</th>\n",
       "      <td>CHA</td>\n",
       "      <td>CHI</td>\n",
       "      <td>126</td>\n",
       "      <td>125</td>\n",
       "      <td>45</td>\n",
       "      <td>88</td>\n",
       "      <td>0.511</td>\n",
       "      <td>23</td>\n",
       "      <td>44</td>\n",
       "      <td>0.523</td>\n",
       "      <td>...</td>\n",
       "      <td>20</td>\n",
       "      <td>29</td>\n",
       "      <td>49</td>\n",
       "      <td>25</td>\n",
       "      <td>11</td>\n",
       "      <td>4</td>\n",
       "      <td>10</td>\n",
       "      <td>20</td>\n",
       "      <td>-1</td>\n",
       "      <td>True</td>\n",
       "    </tr>\n",
       "    <tr>\n",
       "      <th>3</th>\n",
       "      <td>IND</td>\n",
       "      <td>DET</td>\n",
       "      <td>110</td>\n",
       "      <td>119</td>\n",
       "      <td>41</td>\n",
       "      <td>89</td>\n",
       "      <td>0.461</td>\n",
       "      <td>8</td>\n",
       "      <td>21</td>\n",
       "      <td>0.381</td>\n",
       "      <td>...</td>\n",
       "      <td>10</td>\n",
       "      <td>35</td>\n",
       "      <td>45</td>\n",
       "      <td>26</td>\n",
       "      <td>5</td>\n",
       "      <td>6</td>\n",
       "      <td>18</td>\n",
       "      <td>21</td>\n",
       "      <td>9</td>\n",
       "      <td>False</td>\n",
       "    </tr>\n",
       "    <tr>\n",
       "      <th>4</th>\n",
       "      <td>ORL</td>\n",
       "      <td>CLE</td>\n",
       "      <td>94</td>\n",
       "      <td>85</td>\n",
       "      <td>37</td>\n",
       "      <td>86</td>\n",
       "      <td>0.430</td>\n",
       "      <td>9</td>\n",
       "      <td>30</td>\n",
       "      <td>0.300</td>\n",
       "      <td>...</td>\n",
       "      <td>10</td>\n",
       "      <td>44</td>\n",
       "      <td>54</td>\n",
       "      <td>20</td>\n",
       "      <td>8</td>\n",
       "      <td>2</td>\n",
       "      <td>16</td>\n",
       "      <td>15</td>\n",
       "      <td>-9</td>\n",
       "      <td>True</td>\n",
       "    </tr>\n",
       "  </tbody>\n",
       "</table>\n",
       "<p>5 rows × 41 columns</p>\n",
       "</div>"
      ],
      "text/plain": [
       "  team  opp  team_pts  opp_pts  team_fgm  team_fga  team_fg_pct  team_fg3m  \\\n",
       "0  TOR  NOP       130      122        42       103        0.408         14   \n",
       "1  LAC  LAL       112      102        42        81        0.519         11   \n",
       "2  CHA  CHI       126      125        45        88        0.511         23   \n",
       "3  IND  DET       110      119        41        89        0.461          8   \n",
       "4  ORL  CLE        94       85        37        86        0.430          9   \n",
       "\n",
       "   team_fg3a  team_fg3_pct  ...  opp_oreb  opp_dreb  opp_reb  opp_ast  \\\n",
       "0         40         0.350  ...        16        37       53       30   \n",
       "1         31         0.355  ...         9        32       41       20   \n",
       "2         44         0.523  ...        20        29       49       25   \n",
       "3         21         0.381  ...        10        35       45       26   \n",
       "4         30         0.300  ...        10        44       54       20   \n",
       "\n",
       "   opp_stl  opp_blk  opp_tov  opp_pf  opp_plus_minus    win  \n",
       "0        4        9       19      34              -8   True  \n",
       "1        4        7       14      24             -10   True  \n",
       "2       11        4       10      20              -1   True  \n",
       "3        5        6       18      21               9  False  \n",
       "4        8        2       16      15              -9   True  \n",
       "\n",
       "[5 rows x 41 columns]"
      ]
     },
     "execution_count": 4,
     "metadata": {},
     "output_type": "execute_result"
    }
   ],
   "source": [
    "dfh = DataFrame(dfg[cols], copy=True)\n",
    "dfh['win'] = dfh['home_pts'] > dfh['away_pts']\n",
    "dfh.columns = [x.replace('home', 'team') for x in dfh.columns]\n",
    "dfh.columns = [x.replace('away', 'opp') for x in dfh.columns]\n",
    "\n",
    "dfa = DataFrame(dfg[cols], copy=True)\n",
    "dfa['win'] = dfa['home_pts'] < dfa['away_pts']\n",
    "dfa.columns = [x.replace('away', 'team') for x in dfa.columns]\n",
    "dfa.columns = [x.replace('home', 'opp') for x in dfa.columns]\n",
    "\n",
    "df = pd.concat([dfh, dfa], ignore_index=True)\n",
    "df.head()"
   ]
  },
  {
   "cell_type": "code",
   "execution_count": 5,
   "metadata": {},
   "outputs": [
    {
     "data": {
      "text/plain": [
       "0.9575471698113207"
      ]
     },
     "execution_count": 5,
     "metadata": {},
     "output_type": "execute_result"
    }
   ],
   "source": [
    "xvars = ['team_pts', 'opp_pts', 'team_fgm', 'team_fga', 'team_fg3m',\n",
    "        'team_fg3a', 'team_ftm', 'team_fta', 'team_oreb', 'team_dreb',\n",
    "        'team_reb', 'team_ast', 'team_stl', 'team_blk', 'team_tov', 'team_pf',\n",
    "        'opp_fgm', 'opp_fga', 'opp_fg3m', 'opp_fg3a',\n",
    "        'opp_ftm', 'opp_fta', 'opp_oreb', 'opp_dreb', 'opp_reb', 'opp_ast',\n",
    "        'opp_stl', 'opp_blk', 'opp_tov', 'opp_pf']\n",
    "yvar = 'win'\n",
    "\n",
    "train, test = train_test_split(df, test_size=0.20)\n",
    "\n",
    "model = RandomForestClassifier(n_estimators=100)\n",
    "model.fit(train[xvars], train[yvar])\n",
    "\n",
    "test['win_hat'] = model.predict(test[xvars])\n",
    "test['correct'] = (test['win_hat'] == test['win'])\n",
    "test['correct'].mean()"
   ]
  },
  {
   "cell_type": "code",
   "execution_count": 8,
   "metadata": {},
   "outputs": [],
   "source": [
    "sum_cols = ['team_pts', 'opp_pts', 'team_fgm', 'team_fga', 'team_fg3m',\n",
    "        'team_fg3a', 'team_ftm', 'team_fta', 'team_oreb', 'team_dreb',\n",
    "        'team_reb', 'team_ast', 'team_stl', 'team_blk', 'team_tov', 'team_pf',\n",
    "        'team_plus_minus', 'opp_fgm', 'opp_fga', 'opp_fg3m', 'opp_fg3a',\n",
    "        'opp_ftm', 'opp_fta', 'opp_oreb', 'opp_dreb', 'opp_reb', 'opp_ast',\n",
    "        'opp_stl', 'opp_blk', 'opp_tov', 'opp_pf', 'opp_plus_minus', 'win']\n",
    "\n",
    "df2 = df.groupby('team')[sum_cols].sum().reset_index()"
   ]
  },
  {
   "cell_type": "code",
   "execution_count": 6,
   "metadata": {},
   "outputs": [
    {
     "data": {
      "text/html": [
       "<div>\n",
       "<style scoped>\n",
       "    .dataframe tbody tr th:only-of-type {\n",
       "        vertical-align: middle;\n",
       "    }\n",
       "\n",
       "    .dataframe tbody tr th {\n",
       "        vertical-align: top;\n",
       "    }\n",
       "\n",
       "    .dataframe thead th {\n",
       "        text-align: right;\n",
       "    }\n",
       "</style>\n",
       "<table border=\"1\" class=\"dataframe\">\n",
       "  <thead>\n",
       "    <tr style=\"text-align: right;\">\n",
       "      <th></th>\n",
       "      <th>False</th>\n",
       "      <th>True</th>\n",
       "      <th>actual_win_data</th>\n",
       "    </tr>\n",
       "  </thead>\n",
       "  <tbody>\n",
       "    <tr>\n",
       "      <th>280</th>\n",
       "      <td>0.40</td>\n",
       "      <td>0.60</td>\n",
       "      <td>True</td>\n",
       "    </tr>\n",
       "    <tr>\n",
       "      <th>606</th>\n",
       "      <td>0.06</td>\n",
       "      <td>0.94</td>\n",
       "      <td>True</td>\n",
       "    </tr>\n",
       "    <tr>\n",
       "      <th>1097</th>\n",
       "      <td>0.67</td>\n",
       "      <td>0.33</td>\n",
       "      <td>False</td>\n",
       "    </tr>\n",
       "    <tr>\n",
       "      <th>927</th>\n",
       "      <td>0.75</td>\n",
       "      <td>0.25</td>\n",
       "      <td>False</td>\n",
       "    </tr>\n",
       "    <tr>\n",
       "      <th>610</th>\n",
       "      <td>0.90</td>\n",
       "      <td>0.10</td>\n",
       "      <td>False</td>\n",
       "    </tr>\n",
       "  </tbody>\n",
       "</table>\n",
       "</div>"
      ],
      "text/plain": [
       "      False  True  actual_win_data\n",
       "280    0.40  0.60             True\n",
       "606    0.06  0.94             True\n",
       "1097   0.67  0.33            False\n",
       "927    0.75  0.25            False\n",
       "610    0.90  0.10            False"
      ]
     },
     "execution_count": 6,
     "metadata": {},
     "output_type": "execute_result"
    }
   ],
   "source": [
    "probs = DataFrame(model.predict_proba(test[xvars]),\n",
    "                  index=test.index,\n",
    "                  columns=model.classes_)\n",
    "probs['actual_win_data'] = test['win']\n",
    "probs.head()"
   ]
  },
  {
   "cell_type": "code",
   "execution_count": 9,
   "metadata": {},
   "outputs": [
    {
     "data": {
      "text/plain": [
       "team_oreb    0.066625\n",
       "opp_blk      0.051696\n",
       "team_fgm     0.051610\n",
       "team_ast     0.045232\n",
       "opp_fga      0.042587\n",
       "team_dreb    0.038110\n",
       "opp_stl      0.036833\n",
       "team_tov     0.036600\n",
       "opp_fgm      0.034194\n",
       "opp_tov      0.033323\n",
       "opp_pf       0.032914\n",
       "team_fga     0.032732\n",
       "opp_oreb     0.031866\n",
       "team_pts     0.031830\n",
       "opp_fg3a     0.031431\n",
       "team_reb     0.031264\n",
       "team_ftm     0.030257\n",
       "team_pf      0.029570\n",
       "opp_fta      0.028642\n",
       "team_blk     0.028630\n",
       "team_fg3a    0.028243\n",
       "team_fg3m    0.028087\n",
       "opp_fg3m     0.027356\n",
       "opp_ftm      0.027033\n",
       "team_fta     0.026791\n",
       "opp_dreb     0.025714\n",
       "team_stl     0.025365\n",
       "opp_ast      0.022463\n",
       "opp_reb      0.022309\n",
       "opp_pts      0.020695\n",
       "dtype: float64"
      ]
     },
     "execution_count": 9,
     "metadata": {},
     "output_type": "execute_result"
    }
   ],
   "source": [
    "\n",
    "\n",
    "model.fit(df2[xvars], df2[yvar])  # running model fitting on entire dataset\n",
    "Series(model.feature_importances_, xvars).sort_values(ascending=False)"
   ]
  },
  {
   "cell_type": "code",
   "execution_count": 17,
   "metadata": {},
   "outputs": [],
   "source": [
    "important_features = DataFrame(model.feature_importances_, xvars)\n",
    "important_features.reset_index(inplace=True)\n",
    "important_features.columns = ['features', 'importance']\n",
    "important_features.sort_values(by='importance', ascending=False, inplace=True)"
   ]
  },
  {
   "cell_type": "code",
   "execution_count": 18,
   "metadata": {},
   "outputs": [
    {
     "data": {
      "application/vnd.plotly.v1+json": {
       "config": {
        "plotlyServerURL": "https://plot.ly"
       },
       "data": [
        {
         "alignmentgroup": "True",
         "hovertemplate": "features=%{x}<br>importance=%{y}<extra></extra>",
         "legendgroup": "",
         "marker": {
          "color": "#636efa",
          "pattern": {
           "shape": ""
          }
         },
         "name": "",
         "offsetgroup": "",
         "orientation": "v",
         "showlegend": false,
         "textposition": "auto",
         "type": "bar",
         "x": [
          "team_oreb",
          "opp_blk",
          "team_fgm",
          "team_ast",
          "opp_fga",
          "team_dreb",
          "opp_stl",
          "team_tov",
          "opp_fgm",
          "opp_tov",
          "opp_pf",
          "team_fga",
          "opp_oreb",
          "team_pts",
          "opp_fg3a",
          "team_reb",
          "team_ftm",
          "team_pf",
          "opp_fta",
          "team_blk",
          "team_fg3a",
          "team_fg3m",
          "opp_fg3m",
          "opp_ftm",
          "team_fta",
          "opp_dreb",
          "team_stl",
          "opp_ast",
          "opp_reb",
          "opp_pts"
         ],
         "xaxis": "x",
         "y": [
          0.06662534745340835,
          0.051695697986483984,
          0.051610072634523704,
          0.04523209271535192,
          0.042586746820980965,
          0.038110407881401735,
          0.03683267158872358,
          0.036600474215479684,
          0.03419404084942644,
          0.03332318102196251,
          0.03291430790765902,
          0.03273177677715462,
          0.031866023840290726,
          0.0318296023225585,
          0.03143071613729579,
          0.03126374711642603,
          0.030256500073613274,
          0.029569663140363234,
          0.02864201803240624,
          0.028630023061464158,
          0.028242991172958906,
          0.028086855310135814,
          0.027355909637827355,
          0.027032530041799556,
          0.026791418054883224,
          0.025714178754063392,
          0.0253645159841294,
          0.02246332384370673,
          0.022308626096082407,
          0.020694539527438764
         ],
         "yaxis": "y"
        }
       ],
       "layout": {
        "barmode": "relative",
        "legend": {
         "tracegroupgap": 0
        },
        "margin": {
         "t": 60
        },
        "template": {
         "data": {
          "bar": [
           {
            "error_x": {
             "color": "#2a3f5f"
            },
            "error_y": {
             "color": "#2a3f5f"
            },
            "marker": {
             "line": {
              "color": "#E5ECF6",
              "width": 0.5
             },
             "pattern": {
              "fillmode": "overlay",
              "size": 10,
              "solidity": 0.2
             }
            },
            "type": "bar"
           }
          ],
          "barpolar": [
           {
            "marker": {
             "line": {
              "color": "#E5ECF6",
              "width": 0.5
             },
             "pattern": {
              "fillmode": "overlay",
              "size": 10,
              "solidity": 0.2
             }
            },
            "type": "barpolar"
           }
          ],
          "carpet": [
           {
            "aaxis": {
             "endlinecolor": "#2a3f5f",
             "gridcolor": "white",
             "linecolor": "white",
             "minorgridcolor": "white",
             "startlinecolor": "#2a3f5f"
            },
            "baxis": {
             "endlinecolor": "#2a3f5f",
             "gridcolor": "white",
             "linecolor": "white",
             "minorgridcolor": "white",
             "startlinecolor": "#2a3f5f"
            },
            "type": "carpet"
           }
          ],
          "choropleth": [
           {
            "colorbar": {
             "outlinewidth": 0,
             "ticks": ""
            },
            "type": "choropleth"
           }
          ],
          "contour": [
           {
            "colorbar": {
             "outlinewidth": 0,
             "ticks": ""
            },
            "colorscale": [
             [
              0,
              "#0d0887"
             ],
             [
              0.1111111111111111,
              "#46039f"
             ],
             [
              0.2222222222222222,
              "#7201a8"
             ],
             [
              0.3333333333333333,
              "#9c179e"
             ],
             [
              0.4444444444444444,
              "#bd3786"
             ],
             [
              0.5555555555555556,
              "#d8576b"
             ],
             [
              0.6666666666666666,
              "#ed7953"
             ],
             [
              0.7777777777777778,
              "#fb9f3a"
             ],
             [
              0.8888888888888888,
              "#fdca26"
             ],
             [
              1,
              "#f0f921"
             ]
            ],
            "type": "contour"
           }
          ],
          "contourcarpet": [
           {
            "colorbar": {
             "outlinewidth": 0,
             "ticks": ""
            },
            "type": "contourcarpet"
           }
          ],
          "heatmap": [
           {
            "colorbar": {
             "outlinewidth": 0,
             "ticks": ""
            },
            "colorscale": [
             [
              0,
              "#0d0887"
             ],
             [
              0.1111111111111111,
              "#46039f"
             ],
             [
              0.2222222222222222,
              "#7201a8"
             ],
             [
              0.3333333333333333,
              "#9c179e"
             ],
             [
              0.4444444444444444,
              "#bd3786"
             ],
             [
              0.5555555555555556,
              "#d8576b"
             ],
             [
              0.6666666666666666,
              "#ed7953"
             ],
             [
              0.7777777777777778,
              "#fb9f3a"
             ],
             [
              0.8888888888888888,
              "#fdca26"
             ],
             [
              1,
              "#f0f921"
             ]
            ],
            "type": "heatmap"
           }
          ],
          "heatmapgl": [
           {
            "colorbar": {
             "outlinewidth": 0,
             "ticks": ""
            },
            "colorscale": [
             [
              0,
              "#0d0887"
             ],
             [
              0.1111111111111111,
              "#46039f"
             ],
             [
              0.2222222222222222,
              "#7201a8"
             ],
             [
              0.3333333333333333,
              "#9c179e"
             ],
             [
              0.4444444444444444,
              "#bd3786"
             ],
             [
              0.5555555555555556,
              "#d8576b"
             ],
             [
              0.6666666666666666,
              "#ed7953"
             ],
             [
              0.7777777777777778,
              "#fb9f3a"
             ],
             [
              0.8888888888888888,
              "#fdca26"
             ],
             [
              1,
              "#f0f921"
             ]
            ],
            "type": "heatmapgl"
           }
          ],
          "histogram": [
           {
            "marker": {
             "pattern": {
              "fillmode": "overlay",
              "size": 10,
              "solidity": 0.2
             }
            },
            "type": "histogram"
           }
          ],
          "histogram2d": [
           {
            "colorbar": {
             "outlinewidth": 0,
             "ticks": ""
            },
            "colorscale": [
             [
              0,
              "#0d0887"
             ],
             [
              0.1111111111111111,
              "#46039f"
             ],
             [
              0.2222222222222222,
              "#7201a8"
             ],
             [
              0.3333333333333333,
              "#9c179e"
             ],
             [
              0.4444444444444444,
              "#bd3786"
             ],
             [
              0.5555555555555556,
              "#d8576b"
             ],
             [
              0.6666666666666666,
              "#ed7953"
             ],
             [
              0.7777777777777778,
              "#fb9f3a"
             ],
             [
              0.8888888888888888,
              "#fdca26"
             ],
             [
              1,
              "#f0f921"
             ]
            ],
            "type": "histogram2d"
           }
          ],
          "histogram2dcontour": [
           {
            "colorbar": {
             "outlinewidth": 0,
             "ticks": ""
            },
            "colorscale": [
             [
              0,
              "#0d0887"
             ],
             [
              0.1111111111111111,
              "#46039f"
             ],
             [
              0.2222222222222222,
              "#7201a8"
             ],
             [
              0.3333333333333333,
              "#9c179e"
             ],
             [
              0.4444444444444444,
              "#bd3786"
             ],
             [
              0.5555555555555556,
              "#d8576b"
             ],
             [
              0.6666666666666666,
              "#ed7953"
             ],
             [
              0.7777777777777778,
              "#fb9f3a"
             ],
             [
              0.8888888888888888,
              "#fdca26"
             ],
             [
              1,
              "#f0f921"
             ]
            ],
            "type": "histogram2dcontour"
           }
          ],
          "mesh3d": [
           {
            "colorbar": {
             "outlinewidth": 0,
             "ticks": ""
            },
            "type": "mesh3d"
           }
          ],
          "parcoords": [
           {
            "line": {
             "colorbar": {
              "outlinewidth": 0,
              "ticks": ""
             }
            },
            "type": "parcoords"
           }
          ],
          "pie": [
           {
            "automargin": true,
            "type": "pie"
           }
          ],
          "scatter": [
           {
            "fillpattern": {
             "fillmode": "overlay",
             "size": 10,
             "solidity": 0.2
            },
            "type": "scatter"
           }
          ],
          "scatter3d": [
           {
            "line": {
             "colorbar": {
              "outlinewidth": 0,
              "ticks": ""
             }
            },
            "marker": {
             "colorbar": {
              "outlinewidth": 0,
              "ticks": ""
             }
            },
            "type": "scatter3d"
           }
          ],
          "scattercarpet": [
           {
            "marker": {
             "colorbar": {
              "outlinewidth": 0,
              "ticks": ""
             }
            },
            "type": "scattercarpet"
           }
          ],
          "scattergeo": [
           {
            "marker": {
             "colorbar": {
              "outlinewidth": 0,
              "ticks": ""
             }
            },
            "type": "scattergeo"
           }
          ],
          "scattergl": [
           {
            "marker": {
             "colorbar": {
              "outlinewidth": 0,
              "ticks": ""
             }
            },
            "type": "scattergl"
           }
          ],
          "scattermapbox": [
           {
            "marker": {
             "colorbar": {
              "outlinewidth": 0,
              "ticks": ""
             }
            },
            "type": "scattermapbox"
           }
          ],
          "scatterpolar": [
           {
            "marker": {
             "colorbar": {
              "outlinewidth": 0,
              "ticks": ""
             }
            },
            "type": "scatterpolar"
           }
          ],
          "scatterpolargl": [
           {
            "marker": {
             "colorbar": {
              "outlinewidth": 0,
              "ticks": ""
             }
            },
            "type": "scatterpolargl"
           }
          ],
          "scatterternary": [
           {
            "marker": {
             "colorbar": {
              "outlinewidth": 0,
              "ticks": ""
             }
            },
            "type": "scatterternary"
           }
          ],
          "surface": [
           {
            "colorbar": {
             "outlinewidth": 0,
             "ticks": ""
            },
            "colorscale": [
             [
              0,
              "#0d0887"
             ],
             [
              0.1111111111111111,
              "#46039f"
             ],
             [
              0.2222222222222222,
              "#7201a8"
             ],
             [
              0.3333333333333333,
              "#9c179e"
             ],
             [
              0.4444444444444444,
              "#bd3786"
             ],
             [
              0.5555555555555556,
              "#d8576b"
             ],
             [
              0.6666666666666666,
              "#ed7953"
             ],
             [
              0.7777777777777778,
              "#fb9f3a"
             ],
             [
              0.8888888888888888,
              "#fdca26"
             ],
             [
              1,
              "#f0f921"
             ]
            ],
            "type": "surface"
           }
          ],
          "table": [
           {
            "cells": {
             "fill": {
              "color": "#EBF0F8"
             },
             "line": {
              "color": "white"
             }
            },
            "header": {
             "fill": {
              "color": "#C8D4E3"
             },
             "line": {
              "color": "white"
             }
            },
            "type": "table"
           }
          ]
         },
         "layout": {
          "annotationdefaults": {
           "arrowcolor": "#2a3f5f",
           "arrowhead": 0,
           "arrowwidth": 1
          },
          "autotypenumbers": "strict",
          "coloraxis": {
           "colorbar": {
            "outlinewidth": 0,
            "ticks": ""
           }
          },
          "colorscale": {
           "diverging": [
            [
             0,
             "#8e0152"
            ],
            [
             0.1,
             "#c51b7d"
            ],
            [
             0.2,
             "#de77ae"
            ],
            [
             0.3,
             "#f1b6da"
            ],
            [
             0.4,
             "#fde0ef"
            ],
            [
             0.5,
             "#f7f7f7"
            ],
            [
             0.6,
             "#e6f5d0"
            ],
            [
             0.7,
             "#b8e186"
            ],
            [
             0.8,
             "#7fbc41"
            ],
            [
             0.9,
             "#4d9221"
            ],
            [
             1,
             "#276419"
            ]
           ],
           "sequential": [
            [
             0,
             "#0d0887"
            ],
            [
             0.1111111111111111,
             "#46039f"
            ],
            [
             0.2222222222222222,
             "#7201a8"
            ],
            [
             0.3333333333333333,
             "#9c179e"
            ],
            [
             0.4444444444444444,
             "#bd3786"
            ],
            [
             0.5555555555555556,
             "#d8576b"
            ],
            [
             0.6666666666666666,
             "#ed7953"
            ],
            [
             0.7777777777777778,
             "#fb9f3a"
            ],
            [
             0.8888888888888888,
             "#fdca26"
            ],
            [
             1,
             "#f0f921"
            ]
           ],
           "sequentialminus": [
            [
             0,
             "#0d0887"
            ],
            [
             0.1111111111111111,
             "#46039f"
            ],
            [
             0.2222222222222222,
             "#7201a8"
            ],
            [
             0.3333333333333333,
             "#9c179e"
            ],
            [
             0.4444444444444444,
             "#bd3786"
            ],
            [
             0.5555555555555556,
             "#d8576b"
            ],
            [
             0.6666666666666666,
             "#ed7953"
            ],
            [
             0.7777777777777778,
             "#fb9f3a"
            ],
            [
             0.8888888888888888,
             "#fdca26"
            ],
            [
             1,
             "#f0f921"
            ]
           ]
          },
          "colorway": [
           "#636efa",
           "#EF553B",
           "#00cc96",
           "#ab63fa",
           "#FFA15A",
           "#19d3f3",
           "#FF6692",
           "#B6E880",
           "#FF97FF",
           "#FECB52"
          ],
          "font": {
           "color": "#2a3f5f"
          },
          "geo": {
           "bgcolor": "white",
           "lakecolor": "white",
           "landcolor": "#E5ECF6",
           "showlakes": true,
           "showland": true,
           "subunitcolor": "white"
          },
          "hoverlabel": {
           "align": "left"
          },
          "hovermode": "closest",
          "mapbox": {
           "style": "light"
          },
          "paper_bgcolor": "white",
          "plot_bgcolor": "#E5ECF6",
          "polar": {
           "angularaxis": {
            "gridcolor": "white",
            "linecolor": "white",
            "ticks": ""
           },
           "bgcolor": "#E5ECF6",
           "radialaxis": {
            "gridcolor": "white",
            "linecolor": "white",
            "ticks": ""
           }
          },
          "scene": {
           "xaxis": {
            "backgroundcolor": "#E5ECF6",
            "gridcolor": "white",
            "gridwidth": 2,
            "linecolor": "white",
            "showbackground": true,
            "ticks": "",
            "zerolinecolor": "white"
           },
           "yaxis": {
            "backgroundcolor": "#E5ECF6",
            "gridcolor": "white",
            "gridwidth": 2,
            "linecolor": "white",
            "showbackground": true,
            "ticks": "",
            "zerolinecolor": "white"
           },
           "zaxis": {
            "backgroundcolor": "#E5ECF6",
            "gridcolor": "white",
            "gridwidth": 2,
            "linecolor": "white",
            "showbackground": true,
            "ticks": "",
            "zerolinecolor": "white"
           }
          },
          "shapedefaults": {
           "line": {
            "color": "#2a3f5f"
           }
          },
          "ternary": {
           "aaxis": {
            "gridcolor": "white",
            "linecolor": "white",
            "ticks": ""
           },
           "baxis": {
            "gridcolor": "white",
            "linecolor": "white",
            "ticks": ""
           },
           "bgcolor": "#E5ECF6",
           "caxis": {
            "gridcolor": "white",
            "linecolor": "white",
            "ticks": ""
           }
          },
          "title": {
           "x": 0.05
          },
          "xaxis": {
           "automargin": true,
           "gridcolor": "white",
           "linecolor": "white",
           "ticks": "",
           "title": {
            "standoff": 15
           },
           "zerolinecolor": "white",
           "zerolinewidth": 2
          },
          "yaxis": {
           "automargin": true,
           "gridcolor": "white",
           "linecolor": "white",
           "ticks": "",
           "title": {
            "standoff": 15
           },
           "zerolinecolor": "white",
           "zerolinewidth": 2
          }
         }
        },
        "title": {
         "text": "Importance of features to the Model"
        },
        "xaxis": {
         "anchor": "y",
         "domain": [
          0,
          1
         ],
         "title": {
          "text": "features"
         }
        },
        "yaxis": {
         "anchor": "x",
         "domain": [
          0,
          1
         ],
         "title": {
          "text": "importance"
         }
        }
       }
      }
     },
     "metadata": {},
     "output_type": "display_data"
    }
   ],
   "source": [
    "import plotly.express as px\n",
    "fig = px.bar(important_features, x='features', y='importance')\n",
    "fig.update_layout(title='Importance of features to the Model')\n",
    "fig.show()"
   ]
  },
  {
   "attachments": {
    "newplot.png": {
     "image/png": "[encoded data removed]"
    }
   },
   "cell_type": "markdown",
   "metadata": {},
   "source": [
    "![newplot.png](attachment:newplot.png)"
   ]
  }
 ],
 "metadata": {
  "kernelspec": {
   "display_name": "Python 3",
   "language": "python",
   "name": "python3"
  },
  "language_info": {
   "codemirror_mode": {
    "name": "ipython",
    "version": 3
   },
   "file_extension": ".py",
   "mimetype": "text/x-python",
   "name": "python",
   "nbconvert_exporter": "python",
   "pygments_lexer": "ipython3",
   "version": "3.11.3"
  }
 },
 "nbformat": 4,
 "nbformat_minor": 2
}
